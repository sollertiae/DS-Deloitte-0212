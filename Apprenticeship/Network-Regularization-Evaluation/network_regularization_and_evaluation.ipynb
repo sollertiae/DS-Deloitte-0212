{
 "cells": [
  {
   "cell_type": "markdown",
   "metadata": {
    "slideshow": {
     "slide_type": "slide"
    }
   },
   "source": [
    "# Regularization and Evaluation of Neural Networks"
   ]
  },
  {
   "cell_type": "code",
   "execution_count": 3,
   "metadata": {},
   "outputs": [],
   "source": [
    "from sklearn.datasets import load_sample_images\n",
    "from sklearn.datasets import load_digits\n",
    "from sklearn.model_selection import train_test_split, cross_val_score\n",
    "from sklearn.preprocessing import OneHotEncoder\n",
    "from sklearn.metrics import accuracy_score, confusion_matrix\n",
    "import matplotlib.pyplot as plt\n",
    "import matplotlib.image as mpimg\n",
    "import numpy as np\n",
    "import seaborn as sns\n",
    "\n",
    "from tensorflow.keras.models import Sequential\n",
    "from tensorflow.keras.layers import Dense, Dropout\n",
    "from tensorflow.keras.regularizers import l2\n",
    "from tensorflow.keras.optimizers import SGD\n",
    "from tensorflow.keras.wrappers import scikit_learn\n",
    "from tensorflow.keras.callbacks import EarlyStopping\n",
    "\n",
    "#!pip install scikeras\n",
    "#from scikeras.wrappers import KerasClassifier\n",
    "\n",
    "import os\n",
    "import sys\n",
    "module_path = os.path.abspath(os.path.join(os.pardir, os.pardir))\n",
    "if module_path not in sys.path:\n",
    "    sys.path.append(module_path)\n",
    "    \n",
    "%load_ext autoreload\n",
    "%autoreload 2"
   ]
  },
  {
   "cell_type": "code",
   "execution_count": 4,
   "metadata": {},
   "outputs": [],
   "source": [
    "# If you don't have scikeras installed, uncomment and run\n",
    "\n",
    "# pip install scikeras"
   ]
  },
  {
   "cell_type": "markdown",
   "metadata": {},
   "source": [
    "## Learning Objectives\n",
    "\n",
    "- use `keras` to code up a neural network model;\n",
    "- explain dropout and early stopping as distinctive forms of regularization in neural networks;"
   ]
  },
  {
   "cell_type": "markdown",
   "metadata": {},
   "source": [
    "### From last time"
   ]
  },
  {
   "cell_type": "code",
   "execution_count": 5,
   "metadata": {},
   "outputs": [],
   "source": [
    "digits = load_digits()\n",
    "X = digits.data\n",
    "y = digits.target\n",
    "\n",
    "y_binary = y % 2"
   ]
  },
  {
   "cell_type": "code",
   "execution_count": 6,
   "metadata": {},
   "outputs": [
    {
     "name": "stdout",
     "output_type": "stream",
     "text": [
      "Epoch 1/50\n",
      "180/180 [==============================] - 0s 602us/step - loss: 0.7534 - accuracy: 0.6778\n",
      "Epoch 2/50\n",
      "180/180 [==============================] - 0s 521us/step - loss: 0.3199 - accuracy: 0.8620\n",
      "Epoch 3/50\n",
      "180/180 [==============================] - 0s 496us/step - loss: 0.2089 - accuracy: 0.9115\n",
      "Epoch 4/50\n",
      "180/180 [==============================] - 0s 517us/step - loss: 0.1602 - accuracy: 0.9316\n",
      "Epoch 5/50\n",
      "180/180 [==============================] - 0s 511us/step - loss: 0.1329 - accuracy: 0.9421\n",
      "Epoch 6/50\n",
      "180/180 [==============================] - 0s 512us/step - loss: 0.1122 - accuracy: 0.9555\n",
      "Epoch 7/50\n",
      "180/180 [==============================] - 0s 506us/step - loss: 0.1052 - accuracy: 0.9572\n",
      "Epoch 8/50\n",
      "180/180 [==============================] - 0s 529us/step - loss: 0.0916 - accuracy: 0.9661\n",
      "Epoch 9/50\n",
      "180/180 [==============================] - 0s 498us/step - loss: 0.0883 - accuracy: 0.9616\n",
      "Epoch 10/50\n",
      "180/180 [==============================] - 0s 501us/step - loss: 0.0759 - accuracy: 0.9699\n",
      "Epoch 11/50\n",
      "180/180 [==============================] - 0s 491us/step - loss: 0.0713 - accuracy: 0.9722\n",
      "Epoch 12/50\n",
      "180/180 [==============================] - 0s 519us/step - loss: 0.0666 - accuracy: 0.9716\n",
      "Epoch 13/50\n",
      "180/180 [==============================] - 0s 466us/step - loss: 0.0643 - accuracy: 0.9727\n",
      "Epoch 14/50\n",
      "180/180 [==============================] - 0s 499us/step - loss: 0.0576 - accuracy: 0.9755\n",
      "Epoch 15/50\n",
      "180/180 [==============================] - 0s 511us/step - loss: 0.0545 - accuracy: 0.9766\n",
      "Epoch 16/50\n",
      "180/180 [==============================] - 0s 529us/step - loss: 0.0511 - accuracy: 0.9800\n",
      "Epoch 17/50\n",
      "180/180 [==============================] - 0s 494us/step - loss: 0.0492 - accuracy: 0.9811\n",
      "Epoch 18/50\n",
      "180/180 [==============================] - 0s 506us/step - loss: 0.0441 - accuracy: 0.9861\n",
      "Epoch 19/50\n",
      "180/180 [==============================] - 0s 498us/step - loss: 0.0457 - accuracy: 0.9816\n",
      "Epoch 20/50\n",
      "180/180 [==============================] - 0s 489us/step - loss: 0.0389 - accuracy: 0.9855\n",
      "Epoch 21/50\n",
      "180/180 [==============================] - 0s 501us/step - loss: 0.0379 - accuracy: 0.9878\n",
      "Epoch 22/50\n",
      "180/180 [==============================] - 0s 494us/step - loss: 0.0379 - accuracy: 0.9855\n",
      "Epoch 23/50\n",
      "180/180 [==============================] - 0s 507us/step - loss: 0.0349 - accuracy: 0.9894\n",
      "Epoch 24/50\n",
      "180/180 [==============================] - 0s 499us/step - loss: 0.0317 - accuracy: 0.9889\n",
      "Epoch 25/50\n",
      "180/180 [==============================] - 0s 532us/step - loss: 0.0271 - accuracy: 0.9917\n",
      "Epoch 26/50\n",
      "180/180 [==============================] - 0s 502us/step - loss: 0.0308 - accuracy: 0.9900\n",
      "Epoch 27/50\n",
      "180/180 [==============================] - 0s 507us/step - loss: 0.0281 - accuracy: 0.9900\n",
      "Epoch 28/50\n",
      "180/180 [==============================] - 0s 589us/step - loss: 0.0265 - accuracy: 0.9894\n",
      "Epoch 29/50\n",
      "180/180 [==============================] - 0s 485us/step - loss: 0.0251 - accuracy: 0.9900\n",
      "Epoch 30/50\n",
      "180/180 [==============================] - 0s 516us/step - loss: 0.0245 - accuracy: 0.9900\n",
      "Epoch 31/50\n",
      "180/180 [==============================] - 0s 496us/step - loss: 0.0224 - accuracy: 0.9922\n",
      "Epoch 32/50\n",
      "180/180 [==============================] - 0s 508us/step - loss: 0.0202 - accuracy: 0.9922\n",
      "Epoch 33/50\n",
      "180/180 [==============================] - 0s 508us/step - loss: 0.0194 - accuracy: 0.9939\n",
      "Epoch 34/50\n",
      "180/180 [==============================] - 0s 506us/step - loss: 0.0190 - accuracy: 0.9939\n",
      "Epoch 35/50\n",
      "180/180 [==============================] - 0s 534us/step - loss: 0.0183 - accuracy: 0.9939\n",
      "Epoch 36/50\n",
      "180/180 [==============================] - 0s 514us/step - loss: 0.0170 - accuracy: 0.9950\n",
      "Epoch 37/50\n",
      "180/180 [==============================] - 0s 495us/step - loss: 0.0158 - accuracy: 0.9955\n",
      "Epoch 38/50\n",
      "180/180 [==============================] - 0s 478us/step - loss: 0.0139 - accuracy: 0.9950\n",
      "Epoch 39/50\n",
      "180/180 [==============================] - 0s 529us/step - loss: 0.0161 - accuracy: 0.9933\n",
      "Epoch 40/50\n",
      "180/180 [==============================] - 0s 501us/step - loss: 0.0125 - accuracy: 0.9972\n",
      "Epoch 41/50\n",
      "180/180 [==============================] - 0s 586us/step - loss: 0.0129 - accuracy: 0.9961\n",
      "Epoch 42/50\n",
      "180/180 [==============================] - 0s 497us/step - loss: 0.0099 - accuracy: 0.9961\n",
      "Epoch 43/50\n",
      "180/180 [==============================] - 0s 484us/step - loss: 0.0098 - accuracy: 0.9972\n",
      "Epoch 44/50\n",
      "180/180 [==============================] - 0s 522us/step - loss: 0.0101 - accuracy: 0.9972\n",
      "Epoch 45/50\n",
      "180/180 [==============================] - 0s 510us/step - loss: 0.0080 - accuracy: 0.9961\n",
      "Epoch 46/50\n",
      "180/180 [==============================] - 0s 507us/step - loss: 0.0082 - accuracy: 0.9967\n",
      "Epoch 47/50\n",
      "180/180 [==============================] - 0s 485us/step - loss: 0.0080 - accuracy: 0.9978\n",
      "Epoch 48/50\n",
      "180/180 [==============================] - 0s 497us/step - loss: 0.0072 - accuracy: 0.9972\n",
      "Epoch 49/50\n",
      "180/180 [==============================] - 0s 497us/step - loss: 0.0068 - accuracy: 0.9983\n",
      "Epoch 50/50\n",
      "180/180 [==============================] - 0s 546us/step - loss: 0.0054 - accuracy: 0.9983\n"
     ]
    },
    {
     "data": {
      "text/plain": [
       "<tensorflow.python.keras.callbacks.History at 0x7f905c806100>"
      ]
     },
     "execution_count": 6,
     "metadata": {},
     "output_type": "execute_result"
    }
   ],
   "source": [
    "model = Sequential()\n",
    "model.add(Dense(12, activation='relu', input_dim=64))\n",
    "model.add(Dense(8, activation='relu'))\n",
    "model.add(Dense(1, activation='sigmoid'))\n",
    "\n",
    "model.compile(optimizer='rmsprop',\n",
    "              loss='binary_crossentropy',\n",
    "              metrics=['accuracy'])\n",
    "\n",
    "model.fit(X, y_binary, epochs=50, batch_size=10)"
   ]
  },
  {
   "cell_type": "markdown",
   "metadata": {},
   "source": [
    "### Things to know:\n",
    "\n",
    "- The data and labels in `fit()` need to be numpy arrays, not `pandas` dfs.\n",
    "- Scaling your data will have a large impact on your model.\n",
    "   > For our traditional input features, we would use a scaler object. For images, as long as the minimum value is 0, we can simply divide through by the maximum pixel intensity."
   ]
  },
  {
   "cell_type": "markdown",
   "metadata": {},
   "source": [
    "#### Getting data ready for modeling\n",
    "**Preprocessing**:\n",
    "\n",
    "- use train_test_split to create X_train, y_train, X_test, and y_test\n",
    "- Split training data into pure_train and validation sets.\n",
    "- Scale the pixel intensity to a value between 0 and 1."
   ]
  },
  {
   "cell_type": "markdown",
   "metadata": {},
   "source": [
    "Scaling our input variables will help speed up our neural network.\n",
    "\n",
    "Since our minimum intensity is 0, we can normalize the inputs by dividing each value by the max value (16)."
   ]
  },
  {
   "cell_type": "code",
   "execution_count": 7,
   "metadata": {},
   "outputs": [],
   "source": [
    "X_train, X_test, y_train, y_test =\\\n",
    "    train_test_split(X, y_binary, random_state=42, test_size=0.2)\n",
    "\n",
    "X_pure_train, X_val, y_pure_train, y_val =\\\n",
    "    train_test_split(X_train, y_train, random_state=42, test_size=0.2)\n",
    "\n",
    "X_pure_train, X_val, X_test = X_pure_train/16, X_val/16, X_test/16"
   ]
  },
  {
   "cell_type": "markdown",
   "metadata": {},
   "source": [
    "For activation, let's start with the familiar sigmoid function, and see how it performs."
   ]
  },
  {
   "cell_type": "code",
   "execution_count": 8,
   "metadata": {},
   "outputs": [
    {
     "name": "stdout",
     "output_type": "stream",
     "text": [
      "Epoch 1/10\n",
      "12/12 [==============================] - 0s 663us/step - loss: 0.6982 - accuracy: 0.5039\n",
      "Epoch 2/10\n",
      "12/12 [==============================] - 0s 523us/step - loss: 0.6974 - accuracy: 0.5039\n",
      "Epoch 3/10\n",
      "12/12 [==============================] - 0s 542us/step - loss: 0.6966 - accuracy: 0.5039\n",
      "Epoch 4/10\n",
      "12/12 [==============================] - 0s 558us/step - loss: 0.6960 - accuracy: 0.5039\n",
      "Epoch 5/10\n",
      "12/12 [==============================] - 0s 586us/step - loss: 0.6955 - accuracy: 0.5039\n",
      "Epoch 6/10\n",
      "12/12 [==============================] - 0s 512us/step - loss: 0.6950 - accuracy: 0.5039\n",
      "Epoch 7/10\n",
      "12/12 [==============================] - 0s 562us/step - loss: 0.6947 - accuracy: 0.5039\n",
      "Epoch 8/10\n",
      "12/12 [==============================] - 0s 600us/step - loss: 0.6942 - accuracy: 0.5039\n",
      "Epoch 9/10\n",
      "12/12 [==============================] - 0s 484us/step - loss: 0.6939 - accuracy: 0.5039\n",
      "Epoch 10/10\n",
      "12/12 [==============================] - 0s 505us/step - loss: 0.6937 - accuracy: 0.5039\n"
     ]
    }
   ],
   "source": [
    "model = Sequential()\n",
    "# We will start with our trusty sigmoid function.\n",
    "# What does input dimension correspond to?\n",
    "model.add(Dense(12, activation='sigmoid', input_dim=64))\n",
    "model.add(Dense(8, activation='sigmoid'))\n",
    "model.add(Dense(1, activation='sigmoid'))\n",
    "\n",
    "model.compile(optimizer='SGD' ,\n",
    "              # We use binary_crossentropy for a binary loss function\n",
    "              loss='binary_crossentropy',\n",
    "              metrics=['accuracy'])\n",
    "\n",
    "# Assign the variable history to store the results,\n",
    "# and set verbose=1 so we can see the output. To see\n",
    "# only the metrics at the end of each epoch, set verbose=2.\n",
    "results = model.fit(X_pure_train, y_pure_train, epochs=10, batch_size=100, verbose=1)"
   ]
  },
  {
   "cell_type": "markdown",
   "metadata": {},
   "source": [
    "We can access the history of our model via `results.history`.\n",
    "Use __dict__ to take a tour."
   ]
  },
  {
   "cell_type": "code",
   "execution_count": 9,
   "metadata": {},
   "outputs": [
    {
     "data": {
      "text/plain": [
       "{'validation_data': None,\n",
       " 'model': <tensorflow.python.keras.engine.sequential.Sequential at 0x7f9038fdbb50>,\n",
       " '_chief_worker_only': None,\n",
       " '_supports_tf_logs': False,\n",
       " 'history': {'loss': [0.698218822479248,\n",
       "   0.6973603963851929,\n",
       "   0.6965814232826233,\n",
       "   0.6960088014602661,\n",
       "   0.6954621076583862,\n",
       "   0.6950258016586304,\n",
       "   0.6946524977684021,\n",
       "   0.6942460536956787,\n",
       "   0.6939243674278259,\n",
       "   0.6936681866645813],\n",
       "  'accuracy': [0.5039164423942566,\n",
       "   0.5039164423942566,\n",
       "   0.5039164423942566,\n",
       "   0.5039164423942566,\n",
       "   0.5039164423942566,\n",
       "   0.5039164423942566,\n",
       "   0.5039164423942566,\n",
       "   0.5039164423942566,\n",
       "   0.5039164423942566,\n",
       "   0.5039164423942566]},\n",
       " 'params': {'verbose': 1, 'epochs': 10, 'steps': 12},\n",
       " 'epoch': [0, 1, 2, 3, 4, 5, 6, 7, 8, 9]}"
      ]
     },
     "execution_count": 9,
     "metadata": {},
     "output_type": "execute_result"
    }
   ],
   "source": [
    "results.__dict__"
   ]
  },
  {
   "cell_type": "code",
   "execution_count": 10,
   "metadata": {},
   "outputs": [
    {
     "data": {
      "image/png": "[encoded data removed]",
      "text/plain": [
       "<Figure size 720x360 with 2 Axes>"
      ]
     },
     "metadata": {
      "needs_background": "light"
     },
     "output_type": "display_data"
    }
   ],
   "source": [
    "sigmoid_loss = results.history['loss']\n",
    "sigmoid_accuracy = results.history['accuracy']\n",
    "\n",
    "fig, (ax1, ax2) = plt.subplots(1, 2, figsize=(10, 5))\n",
    "sns.lineplot(x=results.epoch, y=sigmoid_loss, ax=ax1, label='loss')\n",
    "sns.lineplot(x=results.epoch, y=sigmoid_accuracy, ax=ax2, label='accuracy');"
   ]
  },
  {
   "cell_type": "markdown",
   "metadata": {},
   "source": [
    "We have two plots above both relating to the quality of our model.  The left-hand plot is our loss. It uses the probabilities associated with our predictions to judge how well our prediction fits reality. We want it to decrease as far as possible.\n",
    "\n",
    "The accuracy judges how well the predictions are after applying the threshold at the output layer.  We want accuracy to increase."
   ]
  },
  {
   "cell_type": "markdown",
   "metadata": {},
   "source": [
    "If we look at our loss, it is still decreasing. That is a signal that our model is **still learning**. If our model is still learning, we can allow it to get better by turning a few dials.\n",
    "\n",
    "Let's:\n",
    "- increase the number of epochs;\n",
    "- change sigmoid activation in the hidden layers to ReLU; and\n",
    "- decrease the batch size."
   ]
  },
  {
   "cell_type": "code",
   "execution_count": 11,
   "metadata": {},
   "outputs": [
    {
     "data": {
      "text/plain": [
       "1149"
      ]
     },
     "execution_count": 11,
     "metadata": {},
     "output_type": "execute_result"
    }
   ],
   "source": [
    "X_pure_train.shape[0]"
   ]
  },
  {
   "cell_type": "code",
   "execution_count": 12,
   "metadata": {},
   "outputs": [
    {
     "name": "stdout",
     "output_type": "stream",
     "text": [
      "Epoch 1/100\n",
      "36/36 [==============================] - 0s 770us/step - loss: 0.6601 - accuracy: 0.6258\n",
      "Epoch 2/100\n",
      "36/36 [==============================] - 0s 546us/step - loss: 0.6113 - accuracy: 0.7276\n",
      "Epoch 3/100\n",
      "36/36 [==============================] - 0s 552us/step - loss: 0.5688 - accuracy: 0.7711\n",
      "Epoch 4/100\n",
      "36/36 [==============================] - 0s 464us/step - loss: 0.5275 - accuracy: 0.8059\n",
      "Epoch 5/100\n",
      "36/36 [==============================] - 0s 486us/step - loss: 0.4893 - accuracy: 0.8225\n",
      "Epoch 6/100\n",
      "36/36 [==============================] - 0s 501us/step - loss: 0.4543 - accuracy: 0.8364\n",
      "Epoch 7/100\n",
      "36/36 [==============================] - 0s 474us/step - loss: 0.4262 - accuracy: 0.8407\n",
      "Epoch 8/100\n",
      "36/36 [==============================] - 0s 480us/step - loss: 0.4014 - accuracy: 0.8564\n",
      "Epoch 9/100\n",
      "36/36 [==============================] - 0s 506us/step - loss: 0.3805 - accuracy: 0.8712\n",
      "Epoch 10/100\n",
      "36/36 [==============================] - 0s 481us/step - loss: 0.3631 - accuracy: 0.8668\n",
      "Epoch 11/100\n",
      "36/36 [==============================] - 0s 540us/step - loss: 0.3492 - accuracy: 0.8695\n",
      "Epoch 12/100\n",
      "36/36 [==============================] - 0s 503us/step - loss: 0.3356 - accuracy: 0.8738\n",
      "Epoch 13/100\n",
      "36/36 [==============================] - 0s 487us/step - loss: 0.3249 - accuracy: 0.8773\n",
      "Epoch 14/100\n",
      "36/36 [==============================] - 0s 530us/step - loss: 0.3150 - accuracy: 0.8799\n",
      "Epoch 15/100\n",
      "36/36 [==============================] - 0s 497us/step - loss: 0.3058 - accuracy: 0.8842\n",
      "Epoch 16/100\n",
      "36/36 [==============================] - 0s 478us/step - loss: 0.2985 - accuracy: 0.8860\n",
      "Epoch 17/100\n",
      "36/36 [==============================] - 0s 483us/step - loss: 0.2928 - accuracy: 0.8903\n",
      "Epoch 18/100\n",
      "36/36 [==============================] - 0s 513us/step - loss: 0.2857 - accuracy: 0.8921\n",
      "Epoch 19/100\n",
      "36/36 [==============================] - 0s 516us/step - loss: 0.2809 - accuracy: 0.8938\n",
      "Epoch 20/100\n",
      "36/36 [==============================] - 0s 501us/step - loss: 0.2751 - accuracy: 0.9025\n",
      "Epoch 21/100\n",
      "36/36 [==============================] - 0s 484us/step - loss: 0.2717 - accuracy: 0.8999\n",
      "Epoch 22/100\n",
      "36/36 [==============================] - 0s 484us/step - loss: 0.2671 - accuracy: 0.9034\n",
      "Epoch 23/100\n",
      "36/36 [==============================] - 0s 517us/step - loss: 0.2637 - accuracy: 0.9025\n",
      "Epoch 24/100\n",
      "36/36 [==============================] - 0s 509us/step - loss: 0.2597 - accuracy: 0.9025\n",
      "Epoch 25/100\n",
      "36/36 [==============================] - 0s 495us/step - loss: 0.2561 - accuracy: 0.9043\n",
      "Epoch 26/100\n",
      "36/36 [==============================] - 0s 511us/step - loss: 0.2542 - accuracy: 0.9025\n",
      "Epoch 27/100\n",
      "36/36 [==============================] - 0s 522us/step - loss: 0.2513 - accuracy: 0.9077\n",
      "Epoch 28/100\n",
      "36/36 [==============================] - 0s 525us/step - loss: 0.2484 - accuracy: 0.9095\n",
      "Epoch 29/100\n",
      "36/36 [==============================] - 0s 493us/step - loss: 0.2462 - accuracy: 0.9060\n",
      "Epoch 30/100\n",
      "36/36 [==============================] - 0s 490us/step - loss: 0.2436 - accuracy: 0.9060\n",
      "Epoch 31/100\n",
      "36/36 [==============================] - 0s 481us/step - loss: 0.2420 - accuracy: 0.9077\n",
      "Epoch 32/100\n",
      "36/36 [==============================] - 0s 515us/step - loss: 0.2387 - accuracy: 0.9104\n",
      "Epoch 33/100\n",
      "36/36 [==============================] - 0s 501us/step - loss: 0.2383 - accuracy: 0.9077\n",
      "Epoch 34/100\n",
      "36/36 [==============================] - 0s 485us/step - loss: 0.2375 - accuracy: 0.9069\n",
      "Epoch 35/100\n",
      "36/36 [==============================] - 0s 500us/step - loss: 0.2350 - accuracy: 0.9104\n",
      "Epoch 36/100\n",
      "36/36 [==============================] - 0s 500us/step - loss: 0.2330 - accuracy: 0.9112\n",
      "Epoch 37/100\n",
      "36/36 [==============================] - 0s 513us/step - loss: 0.2326 - accuracy: 0.9086\n",
      "Epoch 38/100\n",
      "36/36 [==============================] - 0s 488us/step - loss: 0.2312 - accuracy: 0.9104\n",
      "Epoch 39/100\n",
      "36/36 [==============================] - 0s 511us/step - loss: 0.2284 - accuracy: 0.9077\n",
      "Epoch 40/100\n",
      "36/36 [==============================] - 0s 520us/step - loss: 0.2268 - accuracy: 0.9077\n",
      "Epoch 41/100\n",
      "36/36 [==============================] - 0s 506us/step - loss: 0.2258 - accuracy: 0.9130\n",
      "Epoch 42/100\n",
      "36/36 [==============================] - 0s 499us/step - loss: 0.2256 - accuracy: 0.9130\n",
      "Epoch 43/100\n",
      "36/36 [==============================] - 0s 494us/step - loss: 0.2231 - accuracy: 0.9112\n",
      "Epoch 44/100\n",
      "36/36 [==============================] - 0s 501us/step - loss: 0.2221 - accuracy: 0.9112\n",
      "Epoch 45/100\n",
      "36/36 [==============================] - 0s 516us/step - loss: 0.2219 - accuracy: 0.9121\n",
      "Epoch 46/100\n",
      "36/36 [==============================] - 0s 565us/step - loss: 0.2204 - accuracy: 0.9112\n",
      "Epoch 47/100\n",
      "36/36 [==============================] - 0s 509us/step - loss: 0.2191 - accuracy: 0.9147\n",
      "Epoch 48/100\n",
      "36/36 [==============================] - 0s 507us/step - loss: 0.2177 - accuracy: 0.9130\n",
      "Epoch 49/100\n",
      "36/36 [==============================] - 0s 488us/step - loss: 0.2168 - accuracy: 0.9095\n",
      "Epoch 50/100\n",
      "36/36 [==============================] - 0s 518us/step - loss: 0.2147 - accuracy: 0.9138\n",
      "Epoch 51/100\n",
      "36/36 [==============================] - 0s 497us/step - loss: 0.2141 - accuracy: 0.9130\n",
      "Epoch 52/100\n",
      "36/36 [==============================] - 0s 496us/step - loss: 0.2143 - accuracy: 0.9121\n",
      "Epoch 53/100\n",
      "36/36 [==============================] - 0s 490us/step - loss: 0.2132 - accuracy: 0.9121\n",
      "Epoch 54/100\n",
      "36/36 [==============================] - 0s 547us/step - loss: 0.2122 - accuracy: 0.9121\n",
      "Epoch 55/100\n",
      "36/36 [==============================] - 0s 526us/step - loss: 0.2086 - accuracy: 0.9164\n",
      "Epoch 56/100\n",
      "36/36 [==============================] - 0s 479us/step - loss: 0.2097 - accuracy: 0.9138\n",
      "Epoch 57/100\n",
      "36/36 [==============================] - 0s 475us/step - loss: 0.2093 - accuracy: 0.9156\n",
      "Epoch 58/100\n",
      "36/36 [==============================] - 0s 472us/step - loss: 0.2076 - accuracy: 0.9173\n",
      "Epoch 59/100\n",
      "36/36 [==============================] - 0s 481us/step - loss: 0.2067 - accuracy: 0.9164\n",
      "Epoch 60/100\n",
      "36/36 [==============================] - 0s 467us/step - loss: 0.2080 - accuracy: 0.9147\n",
      "Epoch 61/100\n",
      "36/36 [==============================] - 0s 462us/step - loss: 0.2055 - accuracy: 0.9173\n",
      "Epoch 62/100\n",
      "36/36 [==============================] - 0s 633us/step - loss: 0.2051 - accuracy: 0.9173\n",
      "Epoch 63/100\n",
      "36/36 [==============================] - 0s 473us/step - loss: 0.2029 - accuracy: 0.9217\n",
      "Epoch 64/100\n",
      "36/36 [==============================] - 0s 465us/step - loss: 0.2026 - accuracy: 0.9191\n",
      "Epoch 65/100\n",
      "36/36 [==============================] - 0s 462us/step - loss: 0.2020 - accuracy: 0.9156\n",
      "Epoch 66/100\n",
      "36/36 [==============================] - 0s 449us/step - loss: 0.2020 - accuracy: 0.9164\n",
      "Epoch 67/100\n",
      "36/36 [==============================] - 0s 469us/step - loss: 0.2004 - accuracy: 0.9156\n",
      "Epoch 68/100\n",
      "36/36 [==============================] - 0s 465us/step - loss: 0.2003 - accuracy: 0.9199\n",
      "Epoch 69/100\n",
      "36/36 [==============================] - 0s 463us/step - loss: 0.1980 - accuracy: 0.9191\n",
      "Epoch 70/100\n",
      "36/36 [==============================] - 0s 463us/step - loss: 0.1975 - accuracy: 0.9191\n",
      "Epoch 71/100\n",
      "36/36 [==============================] - 0s 471us/step - loss: 0.1967 - accuracy: 0.9164\n",
      "Epoch 72/100\n",
      "36/36 [==============================] - 0s 478us/step - loss: 0.1962 - accuracy: 0.9208\n",
      "Epoch 73/100\n",
      "36/36 [==============================] - 0s 463us/step - loss: 0.1952 - accuracy: 0.9217\n",
      "Epoch 74/100\n",
      "36/36 [==============================] - 0s 456us/step - loss: 0.1959 - accuracy: 0.9199\n",
      "Epoch 75/100\n",
      "36/36 [==============================] - 0s 461us/step - loss: 0.1929 - accuracy: 0.9234\n",
      "Epoch 76/100\n",
      "36/36 [==============================] - 0s 458us/step - loss: 0.1936 - accuracy: 0.9208\n",
      "Epoch 77/100\n",
      "36/36 [==============================] - 0s 462us/step - loss: 0.1918 - accuracy: 0.9225\n",
      "Epoch 78/100\n",
      "36/36 [==============================] - 0s 494us/step - loss: 0.1907 - accuracy: 0.9243\n",
      "Epoch 79/100\n",
      "36/36 [==============================] - 0s 482us/step - loss: 0.1908 - accuracy: 0.9225\n",
      "Epoch 80/100\n",
      "36/36 [==============================] - 0s 457us/step - loss: 0.1899 - accuracy: 0.9173\n",
      "Epoch 81/100\n",
      "36/36 [==============================] - 0s 501us/step - loss: 0.1903 - accuracy: 0.9208\n",
      "Epoch 82/100\n",
      "36/36 [==============================] - 0s 480us/step - loss: 0.1882 - accuracy: 0.9208\n",
      "Epoch 83/100\n",
      "36/36 [==============================] - 0s 478us/step - loss: 0.1881 - accuracy: 0.9225\n",
      "Epoch 84/100\n",
      "36/36 [==============================] - 0s 459us/step - loss: 0.1861 - accuracy: 0.9243\n",
      "Epoch 85/100\n",
      "36/36 [==============================] - 0s 452us/step - loss: 0.1871 - accuracy: 0.9260\n",
      "Epoch 86/100\n",
      "36/36 [==============================] - 0s 458us/step - loss: 0.1850 - accuracy: 0.9225\n",
      "Epoch 87/100\n",
      "36/36 [==============================] - 0s 454us/step - loss: 0.1848 - accuracy: 0.9243\n",
      "Epoch 88/100\n",
      "36/36 [==============================] - 0s 455us/step - loss: 0.1849 - accuracy: 0.9243\n",
      "Epoch 89/100\n",
      "36/36 [==============================] - 0s 450us/step - loss: 0.1828 - accuracy: 0.9260\n",
      "Epoch 90/100\n",
      "36/36 [==============================] - 0s 470us/step - loss: 0.1822 - accuracy: 0.9312\n",
      "Epoch 91/100\n",
      "36/36 [==============================] - 0s 500us/step - loss: 0.1823 - accuracy: 0.9225\n",
      "Epoch 92/100\n",
      "36/36 [==============================] - 0s 479us/step - loss: 0.1809 - accuracy: 0.9252\n",
      "Epoch 93/100\n",
      "36/36 [==============================] - 0s 487us/step - loss: 0.1813 - accuracy: 0.9278\n",
      "Epoch 94/100\n",
      "36/36 [==============================] - 0s 515us/step - loss: 0.1807 - accuracy: 0.9260\n",
      "Epoch 95/100\n",
      "36/36 [==============================] - 0s 478us/step - loss: 0.1799 - accuracy: 0.9269\n",
      "Epoch 96/100\n",
      "36/36 [==============================] - 0s 483us/step - loss: 0.1780 - accuracy: 0.9269\n",
      "Epoch 97/100\n",
      "36/36 [==============================] - 0s 451us/step - loss: 0.1784 - accuracy: 0.9225\n",
      "Epoch 98/100\n",
      "36/36 [==============================] - 0s 465us/step - loss: 0.1767 - accuracy: 0.9295\n",
      "Epoch 99/100\n",
      "36/36 [==============================] - 0s 454us/step - loss: 0.1759 - accuracy: 0.9286\n",
      "Epoch 100/100\n",
      "36/36 [==============================] - 0s 456us/step - loss: 0.1748 - accuracy: 0.9278\n"
     ]
    }
   ],
   "source": [
    "model = Sequential()\n",
    "model.add(Dense(12, activation='relu', input_dim=64))\n",
    "model.add(Dense(8, activation='relu'))\n",
    "model.add(Dense(1, activation='sigmoid'))\n",
    "\n",
    "model.compile(optimizer='SGD',\n",
    "              loss='binary_crossentropy',\n",
    "              metrics=['accuracy'])\n",
    "\n",
    "# Assign the variable history to store the results,\n",
    "# and set verbose=1 so we can see the output.\n",
    "results = model.fit(X_pure_train, y_pure_train, epochs=100, batch_size=None, verbose=1)"
   ]
  },
  {
   "cell_type": "code",
   "execution_count": 13,
   "metadata": {},
   "outputs": [
    {
     "data": {
      "image/png": "[encoded data removed]",
      "text/plain": [
       "<Figure size 720x360 with 2 Axes>"
      ]
     },
     "metadata": {
      "needs_background": "light"
     },
     "output_type": "display_data"
    }
   ],
   "source": [
    "sigmoid_loss = results.history['loss']\n",
    "sigmoid_accuracy = results.history['accuracy']\n",
    "\n",
    "fig, (ax1, ax2) = plt.subplots(1, 2, figsize=(10, 5))\n",
    "sns.lineplot(x=results.epoch, y=sigmoid_loss, ax=ax1, label='loss')\n",
    "sns.lineplot(x=results.epoch, y=sigmoid_accuracy, ax=ax2, label='accuracy');"
   ]
  },
  {
   "cell_type": "markdown",
   "metadata": {},
   "source": [
    "If we increase the learning rate to a very high number, we see that our model overshoots the minimum, and starts bouncing all around."
   ]
  },
  {
   "cell_type": "code",
   "execution_count": 14,
   "metadata": {},
   "outputs": [
    {
     "name": "stdout",
     "output_type": "stream",
     "text": [
      "Epoch 1/30\n",
      "115/115 [==============================] - 0s 603us/step - loss: 1.2657 - accuracy: 0.5135\n",
      "Epoch 2/30\n",
      "115/115 [==============================] - 0s 516us/step - loss: 0.9955 - accuracy: 0.5013\n",
      "Epoch 3/30\n",
      "115/115 [==============================] - 0s 471us/step - loss: 0.9590 - accuracy: 0.5205\n",
      "Epoch 4/30\n",
      "115/115 [==============================] - 0s 478us/step - loss: 1.0410 - accuracy: 0.5013\n",
      "Epoch 5/30\n",
      "115/115 [==============================] - 0s 493us/step - loss: 0.9007 - accuracy: 0.5152\n",
      "Epoch 6/30\n",
      "115/115 [==============================] - 0s 475us/step - loss: 1.0554 - accuracy: 0.4865\n",
      "Epoch 7/30\n",
      "115/115 [==============================] - 0s 485us/step - loss: 1.0407 - accuracy: 0.4830\n",
      "Epoch 8/30\n",
      "115/115 [==============================] - 0s 474us/step - loss: 0.9947 - accuracy: 0.5048\n",
      "Epoch 9/30\n",
      "115/115 [==============================] - 0s 469us/step - loss: 1.0356 - accuracy: 0.4839\n",
      "Epoch 10/30\n",
      "115/115 [==============================] - 0s 477us/step - loss: 0.9722 - accuracy: 0.5170\n",
      "Epoch 11/30\n",
      "115/115 [==============================] - 0s 468us/step - loss: 0.9206 - accuracy: 0.5039\n",
      "Epoch 12/30\n",
      "115/115 [==============================] - 0s 471us/step - loss: 1.1003 - accuracy: 0.4856\n",
      "Epoch 13/30\n",
      "115/115 [==============================] - 0s 471us/step - loss: 1.0640 - accuracy: 0.4769\n",
      "Epoch 14/30\n",
      "115/115 [==============================] - 0s 463us/step - loss: 1.0232 - accuracy: 0.4900\n",
      "Epoch 15/30\n",
      "115/115 [==============================] - 0s 465us/step - loss: 0.9352 - accuracy: 0.5109\n",
      "Epoch 16/30\n",
      "115/115 [==============================] - 0s 475us/step - loss: 1.0149 - accuracy: 0.4865\n",
      "Epoch 17/30\n",
      "115/115 [==============================] - 0s 465us/step - loss: 1.0489 - accuracy: 0.4848\n",
      "Epoch 18/30\n",
      "115/115 [==============================] - 0s 476us/step - loss: 0.9672 - accuracy: 0.5048\n",
      "Epoch 19/30\n",
      "115/115 [==============================] - 0s 466us/step - loss: 1.0718 - accuracy: 0.4769\n",
      "Epoch 20/30\n",
      "115/115 [==============================] - 0s 486us/step - loss: 1.0379 - accuracy: 0.4961\n",
      "Epoch 21/30\n",
      "115/115 [==============================] - 0s 465us/step - loss: 1.0862 - accuracy: 0.4856\n",
      "Epoch 22/30\n",
      "115/115 [==============================] - 0s 475us/step - loss: 0.9986 - accuracy: 0.4970\n",
      "Epoch 23/30\n",
      "115/115 [==============================] - 0s 469us/step - loss: 1.0046 - accuracy: 0.5152\n",
      "Epoch 24/30\n",
      "115/115 [==============================] - 0s 514us/step - loss: 0.9660 - accuracy: 0.5083\n",
      "Epoch 25/30\n",
      "115/115 [==============================] - 0s 477us/step - loss: 1.0181 - accuracy: 0.5030\n",
      "Epoch 26/30\n",
      "115/115 [==============================] - 0s 499us/step - loss: 0.9349 - accuracy: 0.4987\n",
      "Epoch 27/30\n",
      "115/115 [==============================] - 0s 475us/step - loss: 1.0426 - accuracy: 0.4917\n",
      "Epoch 28/30\n",
      "115/115 [==============================] - 0s 551us/step - loss: 0.9756 - accuracy: 0.4978\n",
      "Epoch 29/30\n",
      "115/115 [==============================] - 0s 458us/step - loss: 0.9932 - accuracy: 0.4996\n",
      "Epoch 30/30\n",
      "115/115 [==============================] - 0s 479us/step - loss: 0.9323 - accuracy: 0.5030\n"
     ]
    },
    {
     "data": {
      "image/png": "[encoded data removed]",
      "text/plain": [
       "<Figure size 720x360 with 2 Axes>"
      ]
     },
     "metadata": {
      "needs_background": "light"
     },
     "output_type": "display_data"
    }
   ],
   "source": [
    "model = Sequential()\n",
    "\n",
    "sgd = SGD(learning_rate=9)\n",
    "model.add(Dense(12, activation='relu', input_dim=64))\n",
    "model.add(Dense(8, activation='relu'))\n",
    "model.add(Dense(1, activation='sigmoid'))\n",
    "\n",
    "model.compile(optimizer=sgd,\n",
    "              loss='binary_crossentropy',\n",
    "              metrics=['accuracy'])\n",
    "\n",
    "results = model.fit(X_pure_train, y_pure_train,\n",
    "                    epochs=30, batch_size=10, verbose=1)\n",
    "\n",
    "relu_loss = results.history['loss']\n",
    "relu_accuracy = results.history['accuracy']\n",
    "\n",
    "fig, (ax1, ax2) = plt.subplots(1, 2, figsize=(10, 5))\n",
    "sns.lineplot(x=results.epoch, y=relu_loss, ax=ax1, label='loss')\n",
    "sns.lineplot(x=results.epoch, y=relu_accuracy, ax=ax2, label='accuracy');"
   ]
  },
  {
   "cell_type": "markdown",
   "metadata": {},
   "source": [
    "### Exercise\n",
    "\n",
    "We have been looking only at our training set. Let's add in our validation set to the picture. Check the docstring for the `.fit()` method and add in our validation data."
   ]
  },
  {
   "cell_type": "code",
   "execution_count": 15,
   "metadata": {},
   "outputs": [
    {
     "ename": "KeyError",
     "evalue": "'val_loss'",
     "output_type": "error",
     "traceback": [
      "\u001b[0;31m---------------------------------------------------------------------------\u001b[0m",
      "\u001b[0;31mKeyError\u001b[0m                                  Traceback (most recent call last)",
      "\u001b[0;32m<ipython-input-15-d8f3497bfe7f>\u001b[0m in \u001b[0;36m<module>\u001b[0;34m\u001b[0m\n\u001b[1;32m     14\u001b[0m \u001b[0mtrain_loss\u001b[0m \u001b[0;34m=\u001b[0m \u001b[0mresults\u001b[0m\u001b[0;34m.\u001b[0m\u001b[0mhistory\u001b[0m\u001b[0;34m[\u001b[0m\u001b[0;34m'loss'\u001b[0m\u001b[0;34m]\u001b[0m\u001b[0;34m\u001b[0m\u001b[0;34m\u001b[0m\u001b[0m\n\u001b[1;32m     15\u001b[0m \u001b[0mtrain_acc\u001b[0m \u001b[0;34m=\u001b[0m \u001b[0mresults\u001b[0m\u001b[0;34m.\u001b[0m\u001b[0mhistory\u001b[0m\u001b[0;34m[\u001b[0m\u001b[0;34m'accuracy'\u001b[0m\u001b[0;34m]\u001b[0m\u001b[0;34m\u001b[0m\u001b[0;34m\u001b[0m\u001b[0m\n\u001b[0;32m---> 16\u001b[0;31m \u001b[0mval_loss\u001b[0m \u001b[0;34m=\u001b[0m \u001b[0mresults\u001b[0m\u001b[0;34m.\u001b[0m\u001b[0mhistory\u001b[0m\u001b[0;34m[\u001b[0m\u001b[0;34m'val_loss'\u001b[0m\u001b[0;34m]\u001b[0m\u001b[0;34m\u001b[0m\u001b[0;34m\u001b[0m\u001b[0m\n\u001b[0m\u001b[1;32m     17\u001b[0m \u001b[0mval_acc\u001b[0m \u001b[0;34m=\u001b[0m \u001b[0mresults\u001b[0m\u001b[0;34m.\u001b[0m\u001b[0mhistory\u001b[0m\u001b[0;34m[\u001b[0m\u001b[0;34m'val_accuracy'\u001b[0m\u001b[0;34m]\u001b[0m\u001b[0;34m\u001b[0m\u001b[0;34m\u001b[0m\u001b[0m\n\u001b[1;32m     18\u001b[0m \u001b[0;34m\u001b[0m\u001b[0m\n",
      "\u001b[0;31mKeyError\u001b[0m: 'val_loss'"
     ]
    }
   ],
   "source": [
    "model = Sequential()\n",
    "model.add(Dense(12, activation='relu', input_dim=64))\n",
    "model.add(Dense(8, activation='relu'))\n",
    "model.add(Dense(4, activation='relu'))\n",
    "model.add(Dense(1, activation='sigmoid'))\n",
    "\n",
    "model.compile(optimizer='adam',\n",
    "              loss='binary_crossentropy',\n",
    "              metrics=['accuracy'])\n",
    "\n",
    "\n",
    "## YOUR CODE HERE\n",
    "\n",
    "train_loss = results.history['loss']\n",
    "train_acc = results.history['accuracy']\n",
    "val_loss = results.history['val_loss']\n",
    "val_acc = results.history['val_accuracy']\n",
    "\n",
    "fig, (ax1, ax2) = plt.subplots(1, 2, figsize=(10, 5))\n",
    "sns.lineplot(x=results.epoch, y=train_loss, ax=ax1, label='train_loss')\n",
    "sns.lineplot(x=results.epoch, y=train_acc, ax=ax2, label='train_accuracy')\n",
    "\n",
    "sns.lineplot(x=results.epoch, y=val_loss, ax=ax1, label='val_loss')\n",
    "sns.lineplot(x=results.epoch, y=val_acc, ax=ax2, label='val_accuracy');"
   ]
  },
  {
   "cell_type": "markdown",
   "metadata": {},
   "source": [
    "<details>\n",
    "    <summary>One answer here</summary>\n",
    "<code>model = Sequential()\n",
    "model.add(Dense(12, activation='relu', input_dim=64))\n",
    "model.add(Dense(8, activation='relu'))\n",
    "model.add(Dense(4, activation='relu'))\n",
    "model.add(Dense(1, activation='sigmoid'))\n",
    "model.compile(optimizer='adam',\n",
    "              loss='binary_crossentropy',\n",
    "              metrics=['accuracy'])\n",
    "results = model.fit(X_pure_train, y_pure_train,\n",
    "                   validation_data=(X_val, y_val),\n",
    "                   epochs=30, batch_size=10)\n",
    "train_loss = results.history['loss']\n",
    "train_acc = results.history['accuracy']\n",
    "val_loss = results.history['val_loss']\n",
    "val_acc = results.history['val_accuracy']\n",
    "fig, (ax1, ax2) = plt.subplots(1, 2, figsize=(10, 5))\n",
    "sns.lineplot(x=results.epoch, y=train_loss, ax=ax1, label='train_loss')\n",
    "sns.lineplot(x=results.epoch, y=train_acc, ax=ax2, label='train_accuracy')\n",
    "sns.lineplot(x=results.epoch, y=val_loss, ax=ax1, label='val_loss')\n",
    "sns.lineplot(x=results.epoch, y=val_acc, ax=ax2, label='val_accuracy');</code>\n",
    "</details>"
   ]
  },
  {
   "cell_type": "code",
   "execution_count": null,
   "metadata": {},
   "outputs": [],
   "source": [
    "results.history['val_accuracy'][-1]"
   ]
  },
  {
   "cell_type": "markdown",
   "metadata": {},
   "source": [
    "## Connecting with `sklearn`\n",
    "\n",
    "The `keras.wrappers` submodule means that we can turn `keras` models into estimators that `sklearn` tools will recognize."
   ]
  },
  {
   "cell_type": "code",
   "execution_count": null,
   "metadata": {},
   "outputs": [],
   "source": [
    "# This will throw an error.\n",
    "\n",
    "cross_val_score(model, X_pure_train, y_pure_train)"
   ]
  },
  {
   "cell_type": "code",
   "execution_count": null,
   "metadata": {},
   "outputs": [],
   "source": [
    "def build_model():\n",
    "    model = Sequential()\n",
    "    model.add(Dense(12, activation='relu', input_dim=64))\n",
    "    model.add(Dense(8, activation='relu'))\n",
    "    model.add(Dense(4, activation='relu'))\n",
    "    model.add(Dense(1, activation = 'sigmoid'))\n",
    "\n",
    "    model.compile(optimizer='adam',\n",
    "                  loss='binary_crossentropy',\n",
    "                  metrics=['accuracy'])\n",
    "    return model"
   ]
  },
  {
   "cell_type": "code",
   "execution_count": 16,
   "metadata": {},
   "outputs": [
    {
     "ename": "NameError",
     "evalue": "name 'KerasClassifier' is not defined",
     "output_type": "error",
     "traceback": [
      "\u001b[0;31m---------------------------------------------------------------------------\u001b[0m",
      "\u001b[0;31mNameError\u001b[0m                                 Traceback (most recent call last)",
      "\u001b[0;32m<ipython-input-16-25d36c5b72b6>\u001b[0m in \u001b[0;36m<module>\u001b[0;34m\u001b[0m\n\u001b[0;32m----> 1\u001b[0;31m keras_model = KerasClassifier(build_model,\n\u001b[0m\u001b[1;32m      2\u001b[0m                               \u001b[0mepochs\u001b[0m\u001b[0;34m=\u001b[0m\u001b[0;36m50\u001b[0m\u001b[0;34m,\u001b[0m\u001b[0;34m\u001b[0m\u001b[0;34m\u001b[0m\u001b[0m\n\u001b[1;32m      3\u001b[0m                               \u001b[0mbatch_size\u001b[0m\u001b[0;34m=\u001b[0m\u001b[0;36m32\u001b[0m\u001b[0;34m,\u001b[0m\u001b[0;34m\u001b[0m\u001b[0;34m\u001b[0m\u001b[0m\n\u001b[1;32m      4\u001b[0m                               verbose=2)\n",
      "\u001b[0;31mNameError\u001b[0m: name 'KerasClassifier' is not defined"
     ]
    }
   ],
   "source": [
    "keras_model = KerasClassifier(build_model,\n",
    "                              epochs=50,\n",
    "                              batch_size=32,\n",
    "                              verbose=2)"
   ]
  },
  {
   "cell_type": "code",
   "execution_count": 17,
   "metadata": {},
   "outputs": [
    {
     "ename": "NameError",
     "evalue": "name 'keras_model' is not defined",
     "output_type": "error",
     "traceback": [
      "\u001b[0;31m---------------------------------------------------------------------------\u001b[0m",
      "\u001b[0;31mNameError\u001b[0m                                 Traceback (most recent call last)",
      "\u001b[0;32m<ipython-input-17-f664ee5b235c>\u001b[0m in \u001b[0;36m<module>\u001b[0;34m\u001b[0m\n\u001b[0;32m----> 1\u001b[0;31m \u001b[0mtype\u001b[0m\u001b[0;34m(\u001b[0m\u001b[0mkeras_model\u001b[0m\u001b[0;34m)\u001b[0m\u001b[0;34m\u001b[0m\u001b[0;34m\u001b[0m\u001b[0m\n\u001b[0m",
      "\u001b[0;31mNameError\u001b[0m: name 'keras_model' is not defined"
     ]
    }
   ],
   "source": [
    "type(keras_model)"
   ]
  },
  {
   "cell_type": "code",
   "execution_count": 18,
   "metadata": {},
   "outputs": [
    {
     "ename": "NameError",
     "evalue": "name 'keras_model' is not defined",
     "output_type": "error",
     "traceback": [
      "\u001b[0;31m---------------------------------------------------------------------------\u001b[0m",
      "\u001b[0;31mNameError\u001b[0m                                 Traceback (most recent call last)",
      "\u001b[0;32m<ipython-input-18-38af6ab9a3ae>\u001b[0m in \u001b[0;36m<module>\u001b[0;34m\u001b[0m\n\u001b[0;32m----> 1\u001b[0;31m \u001b[0mcross_val_score\u001b[0m\u001b[0;34m(\u001b[0m\u001b[0mkeras_model\u001b[0m\u001b[0;34m,\u001b[0m \u001b[0mX_pure_train\u001b[0m\u001b[0;34m,\u001b[0m \u001b[0my_pure_train\u001b[0m\u001b[0;34m)\u001b[0m\u001b[0;34m\u001b[0m\u001b[0;34m\u001b[0m\u001b[0m\n\u001b[0m",
      "\u001b[0;31mNameError\u001b[0m: name 'keras_model' is not defined"
     ]
    }
   ],
   "source": [
    "cross_val_score(keras_model, X_pure_train, y_pure_train)"
   ]
  },
  {
   "cell_type": "markdown",
   "metadata": {},
   "source": [
    "## Regularization"
   ]
  },
  {
   "cell_type": "markdown",
   "metadata": {},
   "source": [
    "Does regularization make sense in the context of neural networks? <br/>\n",
    "\n",
    "Yes! We still have all of the salient ingredients: a loss function, overfitting vs. underfitting, and coefficients (weights) that could get too large.\n",
    "\n",
    "But there are now a few different flavors besides L1 and L2 regularization. (Note that L1 regularization is not common in the context of  neural networks.)\n",
    "\n",
    "We'll add a few more layers to give regularization a better chance of making a difference!"
   ]
  },
  {
   "cell_type": "code",
   "execution_count": 19,
   "metadata": {},
   "outputs": [
    {
     "data": {
      "image/png": "[encoded data removed]",
      "text/plain": [
       "<Figure size 720x360 with 2 Axes>"
      ]
     },
     "metadata": {
      "needs_background": "light"
     },
     "output_type": "display_data"
    }
   ],
   "source": [
    "model = Sequential()\n",
    "model.add(Dense(30, activation='relu', input_dim=64))\n",
    "\n",
    "# We can add L2 (or L1) regularization right into\n",
    "# the layer with the kernel_regularizer parameter.\n",
    "\n",
    "model.add(Dense(20, activation='relu',\n",
    "                kernel_regularizer=l2(l2=0.05)))\n",
    "\n",
    "# Note that there is also a bias_regularizer,\n",
    "# but this tends to have less effect.\n",
    "\n",
    "model.add(Dense(12, activation='relu'))\n",
    "model.add(Dense(12, activation='relu'))\n",
    "model.add(Dense(12, activation='relu'))\n",
    "model.add(Dense(8, activation='relu'))\n",
    "model.add(Dense(4, activation='relu'))\n",
    "model.add(Dense(1, activation ='sigmoid'))\n",
    "\n",
    "model.compile(optimizer='adam',\n",
    "              loss='binary_crossentropy',\n",
    "              metrics=['accuracy'])\n",
    "\n",
    "results = model.fit(X_pure_train, y_pure_train, epochs=20, batch_size=32,\n",
    "                    verbose=0, validation_data=(X_val, y_val))\n",
    "\n",
    "train_loss = results.history['loss']\n",
    "train_acc = results.history['accuracy']\n",
    "val_loss = results.history['val_loss']\n",
    "val_acc = results.history['val_accuracy']\n",
    "\n",
    "\n",
    "fig, (ax1, ax2) = plt.subplots(1, 2, figsize=(10, 5))\n",
    "sns.lineplot(x=results.epoch, y=train_loss, ax=ax1, label='train_loss')\n",
    "sns.lineplot(x=results.epoch, y=train_acc, ax=ax2, label='train_accuracy')\n",
    "\n",
    "sns.lineplot(x=results.epoch, y=val_loss, ax=ax1, label='val_loss')\n",
    "sns.lineplot(x=results.epoch, y=val_acc, ax=ax2, label='val_accuracy');"
   ]
  },
  {
   "cell_type": "markdown",
   "metadata": {},
   "source": [
    "Adding L2 to multiple layers:"
   ]
  },
  {
   "cell_type": "code",
   "execution_count": 20,
   "metadata": {},
   "outputs": [
    {
     "data": {
      "image/png": "[encoded data removed]",
      "text/plain": [
       "<Figure size 720x360 with 2 Axes>"
      ]
     },
     "metadata": {
      "needs_background": "light"
     },
     "output_type": "display_data"
    }
   ],
   "source": [
    "model = Sequential()\n",
    "model.add(Dense(30, activation='relu',\n",
    "                input_dim=64))\n",
    "model.add(Dense(20, activation='relu',\n",
    "                kernel_regularizer=l2(l2=0.01)))\n",
    "\n",
    "model.add(Dense(12, activation='relu',\n",
    "                kernel_regularizer=l2(l2=0.01)))\n",
    "model.add(Dense(12, activation='relu',\n",
    "                kernel_regularizer=l2(l2=0.01)))\n",
    "model.add(Dense(12, activation='relu',\n",
    "                kernel_regularizer=l2(l2=0.01)))\n",
    "model.add(Dense(8, activation='relu',\n",
    "                kernel_regularizer=l2(l2=0.01)))\n",
    "model.add(Dense(4, activation='relu',\n",
    "                kernel_regularizer=l2(l2=0.01)))\n",
    "model.add(Dense(1, activation='sigmoid'))\n",
    "\n",
    "model.compile(optimizer='adam',\n",
    "              loss='binary_crossentropy',\n",
    "              metrics=['accuracy'])\n",
    "\n",
    "results = model.fit(X_pure_train, y_pure_train, epochs=20, batch_size=32,\n",
    "                    verbose=0, validation_data=(X_val, y_val))\n",
    "\n",
    "train_loss = results.history['loss']\n",
    "train_acc = results.history['accuracy']\n",
    "val_loss = results.history['val_loss']\n",
    "val_acc = results.history['val_accuracy']\n",
    "\n",
    "\n",
    "fig, (ax1, ax2) = plt.subplots(1, 2, figsize=(10, 5))\n",
    "sns.lineplot(x=results.epoch, y=train_loss, ax=ax1, label='train_loss')\n",
    "sns.lineplot(x=results.epoch, y=train_acc, ax=ax2, label='train_accuracy')\n",
    "\n",
    "sns.lineplot(x=results.epoch, y=val_loss, ax=ax1, label='val_loss')\n",
    "sns.lineplot(x=results.epoch, y=val_acc, ax=ax2, label='val_accuracy');"
   ]
  },
  {
   "cell_type": "markdown",
   "metadata": {},
   "source": [
    "### Dropout\n",
    "\n",
    "We can also specify a dropout layer in keras, which randomly shuts off different nodes during training. This can help to prevent overfitting.\n",
    "\n",
    "![drop_out](https://raw.githubusercontent.com/flatiron-school/DS-Instructor-Content/main/Deep-Learning/Network-Regularization-Evaluation/images/drop_out.png?token=GHSAT0AAAAAACDAYTVNNFDP3F6QLL3ODEOCZD2JSYQ)"
   ]
  },
  {
   "cell_type": "markdown",
   "metadata": {},
   "source": [
    "### Exercise\n",
    "\n",
    "To add dropout to a `keras` network, simply add it as though it were a layer. It will apply to the immediately preceding layer.\n",
    "\n",
    "Add Dropout to one or more layers below."
   ]
  },
  {
   "cell_type": "code",
   "execution_count": 21,
   "metadata": {},
   "outputs": [
    {
     "data": {
      "image/png": "[encoded data removed]",
      "text/plain": [
       "<Figure size 720x360 with 2 Axes>"
      ]
     },
     "metadata": {
      "needs_background": "light"
     },
     "output_type": "display_data"
    }
   ],
   "source": [
    "model = Sequential()\n",
    "model.add(Dense(30, activation='relu', input_dim=64))\n",
    "model.add(Dense(20, activation='relu'))\n",
    "model.add(Dense(12, activation='relu'))\n",
    "model.add(Dense(12, activation='relu'))\n",
    "model.add(Dense(12, activation='relu'))\n",
    "model.add(Dense(8, activation='relu'))\n",
    "model.add(Dense(4, activation='relu'))\n",
    "model.add(Dense(1, activation ='sigmoid'))\n",
    "\n",
    "model.compile(optimizer='adam',\n",
    "              loss='binary_crossentropy',\n",
    "              metrics=['accuracy'])\n",
    "\n",
    "results = model.fit(X_pure_train, y_pure_train, epochs=50,\n",
    "                    batch_size= 32, verbose=0,\n",
    "                    validation_data=(X_val, y_val))\n",
    "\n",
    "train_loss = results.history['loss']\n",
    "train_acc = results.history['accuracy']\n",
    "val_loss = results.history['val_loss']\n",
    "val_acc = results.history['val_accuracy']\n",
    "\n",
    "\n",
    "fig, (ax1, ax2) = plt.subplots(1, 2, figsize=(10, 5))\n",
    "sns.lineplot(x=results.epoch, y=train_loss, ax=ax1, label='train_loss')\n",
    "sns.lineplot(x=results.epoch, y=train_acc, ax=ax2, label='train_accuracy')\n",
    "\n",
    "sns.lineplot(x=results.epoch, y=val_loss, ax=ax1, label='val_loss')\n",
    "sns.lineplot(x=results.epoch, y=val_acc, ax=ax2, label='val_accuracy');"
   ]
  },
  {
   "cell_type": "markdown",
   "metadata": {},
   "source": [
    "<details>\n",
    "    <summary>One answer here</summary>\n",
    "<code>model = Sequential()\n",
    "model.add(Dense(30, activation='relu', input_dim=64))\n",
    "model.add(Dense(20, activation='relu'))\n",
    "model.add(Dropout(0.5))\n",
    "model.add(Dense(12, activation='relu'))\n",
    "model.add(Dropout(0.2))\n",
    "model.add(Dense(12, activation='relu'))\n",
    "model.add(Dense(12, activation='relu'))\n",
    "model.add(Dense(8, activation='relu'))\n",
    "model.add(Dense(4, activation='relu'))\n",
    "model.add(Dense(1, activation ='sigmoid'))\n",
    "\n",
    "model.compile(optimizer='adam',\n",
    "              loss='binary_crossentropy',\n",
    "              metrics=['accuracy'])\n",
    "\n",
    "results = model.fit(X_pure_train, y_pure_train, epochs=50,\n",
    "                    batch_size= 32, verbose=0,\n",
    "                    validation_data=(X_val, y_val))\n",
    "\n",
    "train_loss = results.history['loss']\n",
    "train_acc = results.history['accuracy']\n",
    "val_loss = results.history['val_loss']\n",
    "val_acc = results.history['val_accuracy']\n",
    "\n",
    "\n",
    "fig, (ax1, ax2) = plt.subplots(1, 2, figsize=(10, 5))\n",
    "sns.lineplot(x=results.epoch, y=train_loss, ax=ax1, label='train_loss')\n",
    "sns.lineplot(x=results.epoch, y=train_acc, ax=ax2, label='train_accuracy')\n",
    "\n",
    "sns.lineplot(x=results.epoch, y=val_loss, ax=ax1, label='val_loss')\n",
    "sns.lineplot(x=results.epoch, y=val_acc, ax=ax2, label='val_accuracy');</code>\n",
    "</details>"
   ]
  },
  {
   "cell_type": "code",
   "execution_count": 22,
   "metadata": {},
   "outputs": [
    {
     "data": {
      "text/plain": [
       "0.9756944179534912"
      ]
     },
     "execution_count": 22,
     "metadata": {},
     "output_type": "execute_result"
    }
   ],
   "source": [
    "results.history['val_accuracy'][-1]"
   ]
  },
  {
   "cell_type": "markdown",
   "metadata": {},
   "source": [
    "### Early Stopping"
   ]
  },
  {
   "cell_type": "markdown",
   "metadata": {},
   "source": [
    "We can also tell our neural network to stop once it stops realizing any gain.\n",
    "\n",
    "Here we tell it to stop once the a very small positive change in the validation loss occurs:"
   ]
  },
  {
   "cell_type": "code",
   "execution_count": 23,
   "metadata": {},
   "outputs": [
    {
     "name": "stdout",
     "output_type": "stream",
     "text": [
      "Epoch 00006: early stopping\n"
     ]
    },
    {
     "data": {
      "image/png": "[encoded data removed]",
      "text/plain": [
       "<Figure size 720x360 with 2 Axes>"
      ]
     },
     "metadata": {
      "needs_background": "light"
     },
     "output_type": "display_data"
    }
   ],
   "source": [
    "model = Sequential()\n",
    "model.add(Dense(30, activation='relu', input_dim=64))\n",
    "model.add(Dense(20, activation='relu'))\n",
    "model.add(Dropout(0.5))\n",
    "model.add(Dense(12, activation='relu'))\n",
    "model.add(Dense(12, activation='relu'))\n",
    "model.add(Dense(12, activation='relu'))\n",
    "model.add(Dense(8, activation='relu'))\n",
    "model.add(Dense(4, activation='relu'))\n",
    "model.add(Dense(1, activation ='sigmoid'))\n",
    "\n",
    "model.compile(optimizer='adam',\n",
    "              loss='binary_crossentropy',\n",
    "              metrics=['accuracy'])\n",
    "\n",
    "# Define the EarlyStopping object\n",
    "early_stop = EarlyStopping(monitor='val_loss', min_delta=1e-8,\n",
    "                           verbose=1,\n",
    "                           mode='min')\n",
    "\n",
    "# Place this in a list as the value of the `callbacks` parameter\n",
    "# in the `.fit()` method.\n",
    "results = model.fit(X_pure_train, y_pure_train,\n",
    "                    epochs=20, batch_size=32,\n",
    "                    verbose=0, validation_data=(X_val, y_val),\n",
    "                    callbacks=[early_stop])\n",
    "\n",
    "train_loss = results.history['loss']\n",
    "train_acc = results.history['accuracy']\n",
    "val_loss = results.history['val_loss']\n",
    "val_acc = results.history['val_accuracy']\n",
    "\n",
    "\n",
    "fig, (ax1, ax2) = plt.subplots(1, 2, figsize=(10, 5))\n",
    "sns.lineplot(x=results.epoch, y=train_loss, ax=ax1, label='train_loss')\n",
    "sns.lineplot(x=results.epoch, y=train_acc, ax=ax2, label='train_accuracy')\n",
    "\n",
    "sns.lineplot(x=results.epoch, y=val_loss, ax=ax1, label='val_loss')\n",
    "sns.lineplot(x=results.epoch, y=val_acc, ax=ax2, label='val_accuracy');"
   ]
  },
  {
   "cell_type": "markdown",
   "metadata": {},
   "source": [
    "### Exercise\n",
    "\n",
    "That probably stopped too early. We can specify the number of epochs in which it doesn't see decrease in the loss with the `patience` parameter. Modify the code below to include an Early Stop with a patience of 5 epochs."
   ]
  },
  {
   "cell_type": "code",
   "execution_count": 24,
   "metadata": {},
   "outputs": [
    {
     "name": "stdout",
     "output_type": "stream",
     "text": [
      "Epoch 00036: early stopping\n"
     ]
    },
    {
     "data": {
      "image/png": "[encoded data removed]",
      "text/plain": [
       "<Figure size 720x360 with 2 Axes>"
      ]
     },
     "metadata": {
      "needs_background": "light"
     },
     "output_type": "display_data"
    }
   ],
   "source": [
    "model = Sequential()\n",
    "model.add(Dense(30, activation='relu', input_dim=64))\n",
    "model.add(Dense(20, activation='relu'))\n",
    "model.add(Dropout(0.5))\n",
    "model.add(Dense(12, activation='relu'))\n",
    "model.add(Dense(12, activation='relu'))\n",
    "model.add(Dense(12, activation='relu'))\n",
    "model.add(Dense(8, activation='relu'))\n",
    "model.add(Dense(4, activation='relu'))\n",
    "model.add(Dense(1, activation ='sigmoid'))\n",
    "\n",
    "model.compile(optimizer='adam',\n",
    "              loss='binary_crossentropy',\n",
    "              metrics=['accuracy'])\n",
    "\n",
    "# Define the EarlyStopping object\n",
    "early_stop = EarlyStopping(monitor='val_loss', min_delta=1e-8,\n",
    "                           verbose=1, patience=5,\n",
    "                           mode='min')\n",
    "\n",
    "# Place this in a list as the value of the `callbacks` parameter\n",
    "# in the `.fit()` method.\n",
    "results = model.fit(X_pure_train, y_pure_train,\n",
    "                    epochs=50, batch_size= 32,\n",
    "                    verbose=0, validation_data=(X_val, y_val),\n",
    "                    callbacks=[early_stop])\n",
    "\n",
    "train_loss = results.history['loss']\n",
    "train_acc = results.history['accuracy']\n",
    "val_loss = results.history['val_loss']\n",
    "val_acc = results.history['val_accuracy']\n",
    "\n",
    "\n",
    "fig, (ax1, ax2) = plt.subplots(1, 2, figsize=(10, 5))\n",
    "sns.lineplot(x=results.epoch, y=train_loss, ax=ax1, label='train_loss')\n",
    "sns.lineplot(x=results.epoch, y=train_acc, ax=ax2, label='train_accuracy')\n",
    "\n",
    "sns.lineplot(x=results.epoch, y=val_loss, ax=ax1, label='val_loss')\n",
    "sns.lineplot(x=results.epoch, y=val_acc, ax=ax2, label='val_accuracy');"
   ]
  },
  {
   "cell_type": "markdown",
   "metadata": {},
   "source": [
    "<details>\n",
    "    <summary>One answer here</summary>\n",
    "<code>model = Sequential()\n",
    "model.add(Dense(30, activation='relu', input_dim=64))\n",
    "model.add(Dense(20, activation='relu'))\n",
    "model.add(Dropout(0.5))\n",
    "model.add(Dense(12, activation='relu'))\n",
    "model.add(Dense(12, activation='relu'))\n",
    "model.add(Dense(12, activation='relu'))\n",
    "model.add(Dense(8, activation='relu'))\n",
    "model.add(Dense(4, activation='relu'))\n",
    "model.add(Dense(1, activation ='sigmoid'))\n",
    "\n",
    "model.compile(optimizer='adam',\n",
    "              loss='binary_crossentropy',\n",
    "              metrics=['accuracy'])\n",
    "\n",
    "# Define the EarlyStopping object\n",
    "\n",
    "\n",
    "\n",
    "# Place this in a list as the value of the `callbacks` parameter\n",
    "# in the `.fit()` method.\n",
    "results = model.fit(X_pure_train, y_pure_train,\n",
    "                    epochs=50, batch_size= 32,\n",
    "                    verbose=0, validation_data=(X_val, y_val),\n",
    "                    callbacks=[early_stop])\n",
    "\n",
    "train_loss = results.history['loss']\n",
    "train_acc = results.history['accuracy']\n",
    "val_loss = results.history['val_loss']\n",
    "val_acc = results.history['val_accuracy']\n",
    "\n",
    "\n",
    "fig, (ax1, ax2) = plt.subplots(1, 2, figsize=(10, 5))\n",
    "sns.lineplot(x=results.epoch, y=train_loss, ax=ax1, label='train_loss')\n",
    "sns.lineplot(x=results.epoch, y=train_acc, ax=ax2, label='train_accuracy')\n",
    "\n",
    "sns.lineplot(x=results.epoch, y=val_loss, ax=ax1, label='val_loss')\n",
    "sns.lineplot(x=results.epoch, y=val_acc, ax=ax2, label='val_accuracy');</code>\n",
    "</details>"
   ]
  },
  {
   "cell_type": "code",
   "execution_count": 25,
   "metadata": {},
   "outputs": [
    {
     "data": {
      "text/plain": [
       "0.9618055820465088"
      ]
     },
     "execution_count": 25,
     "metadata": {},
     "output_type": "execute_result"
    }
   ],
   "source": [
    "results.history['val_accuracy'][-1]"
   ]
  },
  {
   "cell_type": "markdown",
   "metadata": {},
   "source": [
    "## Multiclass Classification and Softmax"
   ]
  },
  {
   "cell_type": "markdown",
   "metadata": {},
   "source": [
    "Now let's return to the problem of predicting digits 0 through 9."
   ]
  },
  {
   "cell_type": "code",
   "execution_count": 26,
   "metadata": {},
   "outputs": [],
   "source": [
    "digits = load_digits()\n",
    "X = digits.data\n",
    "y = digits.target"
   ]
  },
  {
   "cell_type": "code",
   "execution_count": 27,
   "metadata": {},
   "outputs": [],
   "source": [
    "X_train, X_test, y_train, y_test = train_test_split(X, y,\n",
    "                                                    random_state=42,\n",
    "                                                    test_size=0.2)\n",
    "X_pure_train, X_val, y_pure_train, y_val =\\\n",
    "    train_test_split(X_train, y_train,\n",
    "                     random_state=42, test_size=0.2)\n",
    "X_pure_train, X_val, X_test = X_pure_train/16, X_val/16, X_test/16"
   ]
  },
  {
   "cell_type": "markdown",
   "metadata": {},
   "source": [
    "For a multiclass output, our neural net expects our target to be in a certain form."
   ]
  },
  {
   "cell_type": "code",
   "execution_count": 28,
   "metadata": {},
   "outputs": [],
   "source": [
    "ohe = OneHotEncoder(sparse=False)\n",
    "y_pure_train = ohe.fit_transform(y_pure_train.reshape(-1,1))\n",
    "y_val = ohe.transform(y_val.reshape(-1,1))\n",
    "y_test = ohe.transform(y_test.reshape(-1,1))"
   ]
  },
  {
   "cell_type": "code",
   "execution_count": 29,
   "metadata": {},
   "outputs": [
    {
     "data": {
      "text/plain": [
       "array([[0., 0., 0., ..., 0., 0., 0.],\n",
       "       [0., 0., 0., ..., 0., 0., 1.],\n",
       "       [0., 0., 0., ..., 0., 0., 0.],\n",
       "       ...,\n",
       "       [0., 0., 0., ..., 0., 1., 0.],\n",
       "       [0., 0., 0., ..., 0., 0., 0.],\n",
       "       [0., 0., 0., ..., 0., 0., 0.]])"
      ]
     },
     "execution_count": 29,
     "metadata": {},
     "output_type": "execute_result"
    }
   ],
   "source": [
    "y_test"
   ]
  },
  {
   "cell_type": "code",
   "execution_count": 30,
   "metadata": {},
   "outputs": [
    {
     "name": "stdout",
     "output_type": "stream",
     "text": [
      "Epoch 1/50\n",
      "115/115 [==============================] - 0s 2ms/step - loss: 2.2422 - accuracy: 0.1697 - val_loss: 2.1341 - val_accuracy: 0.2500\n",
      "Epoch 2/50\n",
      "115/115 [==============================] - 0s 778us/step - loss: 1.9663 - accuracy: 0.2567 - val_loss: 1.7808 - val_accuracy: 0.3125\n",
      "Epoch 3/50\n",
      "115/115 [==============================] - 0s 753us/step - loss: 1.5581 - accuracy: 0.5379 - val_loss: 1.2877 - val_accuracy: 0.7083\n",
      "Epoch 4/50\n",
      "115/115 [==============================] - 0s 797us/step - loss: 1.0919 - accuracy: 0.7659 - val_loss: 0.8883 - val_accuracy: 0.8021\n",
      "Epoch 5/50\n",
      "115/115 [==============================] - 0s 740us/step - loss: 0.7800 - accuracy: 0.8329 - val_loss: 0.6955 - val_accuracy: 0.8472\n",
      "Epoch 6/50\n",
      "115/115 [==============================] - 0s 770us/step - loss: 0.6124 - accuracy: 0.8538 - val_loss: 0.5794 - val_accuracy: 0.8542\n",
      "Epoch 7/50\n",
      "115/115 [==============================] - 0s 759us/step - loss: 0.5061 - accuracy: 0.8799 - val_loss: 0.4861 - val_accuracy: 0.8750\n",
      "Epoch 8/50\n",
      "115/115 [==============================] - 0s 774us/step - loss: 0.4323 - accuracy: 0.9034 - val_loss: 0.4210 - val_accuracy: 0.8924\n",
      "Epoch 9/50\n",
      "115/115 [==============================] - 0s 811us/step - loss: 0.3755 - accuracy: 0.9130 - val_loss: 0.3784 - val_accuracy: 0.8924\n",
      "Epoch 10/50\n",
      "115/115 [==============================] - 0s 823us/step - loss: 0.3344 - accuracy: 0.9173 - val_loss: 0.3393 - val_accuracy: 0.9201\n",
      "Epoch 11/50\n",
      "115/115 [==============================] - 0s 735us/step - loss: 0.3019 - accuracy: 0.9234 - val_loss: 0.3119 - val_accuracy: 0.9271\n",
      "Epoch 12/50\n",
      "115/115 [==============================] - 0s 774us/step - loss: 0.2683 - accuracy: 0.9356 - val_loss: 0.3092 - val_accuracy: 0.9236\n",
      "Epoch 13/50\n",
      "115/115 [==============================] - 0s 770us/step - loss: 0.2514 - accuracy: 0.9356 - val_loss: 0.2839 - val_accuracy: 0.9340\n",
      "Epoch 14/50\n",
      "115/115 [==============================] - 0s 769us/step - loss: 0.2304 - accuracy: 0.9408 - val_loss: 0.2704 - val_accuracy: 0.9167\n",
      "Epoch 15/50\n",
      "115/115 [==============================] - 0s 726us/step - loss: 0.2171 - accuracy: 0.9399 - val_loss: 0.2356 - val_accuracy: 0.9340\n",
      "Epoch 16/50\n",
      "115/115 [==============================] - 0s 725us/step - loss: 0.2037 - accuracy: 0.9417 - val_loss: 0.2406 - val_accuracy: 0.9132\n",
      "Epoch 17/50\n",
      "115/115 [==============================] - 0s 725us/step - loss: 0.1883 - accuracy: 0.9469 - val_loss: 0.2285 - val_accuracy: 0.9271\n",
      "Epoch 18/50\n",
      "115/115 [==============================] - 0s 732us/step - loss: 0.1773 - accuracy: 0.9556 - val_loss: 0.2206 - val_accuracy: 0.9375\n",
      "Epoch 19/50\n",
      "115/115 [==============================] - 0s 704us/step - loss: 0.1698 - accuracy: 0.9556 - val_loss: 0.2010 - val_accuracy: 0.9340\n",
      "Epoch 20/50\n",
      "115/115 [==============================] - 0s 732us/step - loss: 0.1605 - accuracy: 0.9600 - val_loss: 0.2011 - val_accuracy: 0.9340\n",
      "Epoch 21/50\n",
      "115/115 [==============================] - 0s 717us/step - loss: 0.1525 - accuracy: 0.9591 - val_loss: 0.1879 - val_accuracy: 0.9479\n",
      "Epoch 22/50\n",
      "115/115 [==============================] - 0s 727us/step - loss: 0.1442 - accuracy: 0.9634 - val_loss: 0.1788 - val_accuracy: 0.9410\n",
      "Epoch 23/50\n",
      "115/115 [==============================] - 0s 714us/step - loss: 0.1412 - accuracy: 0.9608 - val_loss: 0.1825 - val_accuracy: 0.9444\n",
      "Epoch 24/50\n",
      "115/115 [==============================] - 0s 724us/step - loss: 0.1328 - accuracy: 0.9669 - val_loss: 0.1772 - val_accuracy: 0.9375\n",
      "Epoch 25/50\n",
      "115/115 [==============================] - 0s 713us/step - loss: 0.1275 - accuracy: 0.9652 - val_loss: 0.1733 - val_accuracy: 0.9410\n",
      "Epoch 26/50\n",
      "115/115 [==============================] - 0s 737us/step - loss: 0.1220 - accuracy: 0.9721 - val_loss: 0.1676 - val_accuracy: 0.9444\n",
      "Epoch 27/50\n",
      "115/115 [==============================] - 0s 719us/step - loss: 0.1175 - accuracy: 0.9721 - val_loss: 0.1655 - val_accuracy: 0.9444\n",
      "Epoch 28/50\n",
      "115/115 [==============================] - 0s 729us/step - loss: 0.1136 - accuracy: 0.9687 - val_loss: 0.1500 - val_accuracy: 0.9514\n",
      "Epoch 29/50\n",
      "115/115 [==============================] - 0s 707us/step - loss: 0.1099 - accuracy: 0.9721 - val_loss: 0.1531 - val_accuracy: 0.9583\n",
      "Epoch 30/50\n",
      "115/115 [==============================] - 0s 722us/step - loss: 0.1055 - accuracy: 0.9713 - val_loss: 0.1592 - val_accuracy: 0.9479\n",
      "Epoch 31/50\n",
      "115/115 [==============================] - 0s 722us/step - loss: 0.1012 - accuracy: 0.9721 - val_loss: 0.1415 - val_accuracy: 0.9653\n",
      "Epoch 32/50\n",
      "115/115 [==============================] - 0s 719us/step - loss: 0.0978 - accuracy: 0.9748 - val_loss: 0.1439 - val_accuracy: 0.9549\n",
      "Epoch 33/50\n",
      "115/115 [==============================] - 0s 777us/step - loss: 0.0930 - accuracy: 0.9791 - val_loss: 0.1395 - val_accuracy: 0.9618\n",
      "Epoch 34/50\n",
      "115/115 [==============================] - 0s 773us/step - loss: 0.0905 - accuracy: 0.9791 - val_loss: 0.1472 - val_accuracy: 0.9583\n",
      "Epoch 35/50\n",
      "115/115 [==============================] - 0s 862us/step - loss: 0.0903 - accuracy: 0.9748 - val_loss: 0.1307 - val_accuracy: 0.9618\n",
      "Epoch 36/50\n",
      "115/115 [==============================] - 0s 708us/step - loss: 0.0865 - accuracy: 0.9817 - val_loss: 0.1313 - val_accuracy: 0.9688\n",
      "Epoch 37/50\n",
      "115/115 [==============================] - 0s 748us/step - loss: 0.0834 - accuracy: 0.9809 - val_loss: 0.1310 - val_accuracy: 0.9722\n",
      "Epoch 38/50\n",
      "115/115 [==============================] - 0s 770us/step - loss: 0.0815 - accuracy: 0.9774 - val_loss: 0.1286 - val_accuracy: 0.9583\n",
      "Epoch 39/50\n",
      "115/115 [==============================] - 0s 717us/step - loss: 0.0792 - accuracy: 0.9826 - val_loss: 0.1253 - val_accuracy: 0.9653\n",
      "Epoch 40/50\n",
      "115/115 [==============================] - 0s 743us/step - loss: 0.0763 - accuracy: 0.9835 - val_loss: 0.1348 - val_accuracy: 0.9549\n",
      "Epoch 41/50\n",
      "115/115 [==============================] - 0s 709us/step - loss: 0.0734 - accuracy: 0.9826 - val_loss: 0.1386 - val_accuracy: 0.9583\n",
      "Epoch 42/50\n",
      "115/115 [==============================] - 0s 749us/step - loss: 0.0713 - accuracy: 0.9852 - val_loss: 0.1260 - val_accuracy: 0.9722\n",
      "Epoch 43/50\n",
      "115/115 [==============================] - 0s 790us/step - loss: 0.0680 - accuracy: 0.9843 - val_loss: 0.1397 - val_accuracy: 0.9444\n",
      "Epoch 44/50\n",
      "115/115 [==============================] - 0s 792us/step - loss: 0.0657 - accuracy: 0.9826 - val_loss: 0.1215 - val_accuracy: 0.9583\n",
      "Epoch 45/50\n",
      "115/115 [==============================] - 0s 749us/step - loss: 0.0651 - accuracy: 0.9887 - val_loss: 0.1276 - val_accuracy: 0.9583\n",
      "Epoch 46/50\n",
      "115/115 [==============================] - 0s 796us/step - loss: 0.0619 - accuracy: 0.9869 - val_loss: 0.1269 - val_accuracy: 0.9583\n",
      "Epoch 47/50\n",
      "115/115 [==============================] - 0s 763us/step - loss: 0.0624 - accuracy: 0.9861 - val_loss: 0.1197 - val_accuracy: 0.9618\n",
      "Epoch 48/50\n",
      "115/115 [==============================] - 0s 773us/step - loss: 0.0597 - accuracy: 0.9843 - val_loss: 0.1246 - val_accuracy: 0.9618\n",
      "Epoch 49/50\n",
      "115/115 [==============================] - 0s 726us/step - loss: 0.0572 - accuracy: 0.9904 - val_loss: 0.1309 - val_accuracy: 0.9479\n",
      "Epoch 50/50\n",
      "115/115 [==============================] - 0s 770us/step - loss: 0.0561 - accuracy: 0.9878 - val_loss: 0.1144 - val_accuracy: 0.9618\n"
     ]
    }
   ],
   "source": [
    "# Model from above, but now with ten output neurons:\n",
    "\n",
    "model = Sequential()\n",
    "model.add(Dense(12, activation='relu', input_dim=64))\n",
    "model.add(Dense(8, activation='relu'))\n",
    "model.add(Dense(10, activation='softmax'))\n",
    "\n",
    "model.compile(optimizer='adam',\n",
    "              loss='categorical_crossentropy',\n",
    "              metrics=['accuracy'])\n",
    "\n",
    "results = model.fit(X_pure_train, y_pure_train,\n",
    "                   epochs=50, batch_size=10,\n",
    "                   validation_data=(X_val, y_val))"
   ]
  },
  {
   "cell_type": "markdown",
   "metadata": {},
   "source": [
    "$$\\large \\text{Softmax}(x_{i}) = \\frac{\\exp(x_i)}{\\sum_j \\exp(x_j)}$$\n",
    "\n",
    "The sofmax function outputs a number between 0 and 1 for each of our classes.  All of the probabilities of the classes sum up to 1.\n",
    "\n",
    "The number of nodes in our output layer equals the number of categories in our dataset.\n",
    "\n",
    "We also need a new loss function: **categorical crossentropy**, which calculates a separate loss for each label and then sums the results."
   ]
  },
  {
   "cell_type": "code",
   "execution_count": 31,
   "metadata": {},
   "outputs": [],
   "source": [
    "history = results.history\n",
    "training_loss = history['loss']\n",
    "val_loss = history['val_loss']\n",
    "training_accuracy = history['accuracy']\n",
    "val_accuracy = history['val_accuracy']"
   ]
  },
  {
   "cell_type": "code",
   "execution_count": 32,
   "metadata": {},
   "outputs": [
    {
     "data": {
      "image/png": "[encoded data removed]",
      "text/plain": [
       "<Figure size 1080x360 with 2 Axes>"
      ]
     },
     "metadata": {
      "needs_background": "light"
     },
     "output_type": "display_data"
    }
   ],
   "source": [
    "fig, (ax1,ax2) = plt.subplots(1,2,figsize=(15,5))\n",
    "\n",
    "\n",
    "sns.lineplot(x=list(range(len(training_loss))),\n",
    "             y=training_loss, color='r', label='training', ax=ax1)\n",
    "sns.lineplot(x=list(range(len(val_loss))),\n",
    "             y=val_loss, color='b', label='validation', ax=ax1)\n",
    "sns.lineplot(x=list(range(len(training_loss))),\n",
    "             y=training_accuracy, color='r', label='training',ax=ax2)\n",
    "sns.lineplot(x=list(range(len(val_loss))),\n",
    "             y=val_accuracy, color='b', label='validation',ax=ax2)\n",
    "ax1.legend();"
   ]
  },
  {
   "cell_type": "code",
   "execution_count": 33,
   "metadata": {},
   "outputs": [],
   "source": [
    "y_hat_test = np.argmax(model.predict(X_test), axis=-1)"
   ]
  },
  {
   "cell_type": "code",
   "execution_count": 34,
   "metadata": {},
   "outputs": [
    {
     "data": {
      "text/plain": [
       "array([[31,  0,  0,  0,  1,  0,  0,  1,  0,  0],\n",
       "       [ 0, 27,  0,  0,  0,  0,  0,  0,  0,  1],\n",
       "       [ 0,  1, 31,  0,  0,  0,  0,  0,  1,  0],\n",
       "       [ 0,  0,  0, 33,  0,  0,  0,  0,  0,  1],\n",
       "       [ 0,  2,  0,  0, 44,  0,  0,  0,  0,  0],\n",
       "       [ 0,  0,  1,  0,  0, 44,  0,  0,  1,  1],\n",
       "       [ 1,  0,  0,  0,  0,  0, 34,  0,  0,  0],\n",
       "       [ 0,  0,  0,  0,  0,  0,  0, 33,  0,  1],\n",
       "       [ 0,  2,  0,  0,  1,  1,  0,  0, 26,  0],\n",
       "       [ 0,  1,  0,  1,  0,  0,  0,  0,  0, 38]])"
      ]
     },
     "execution_count": 34,
     "metadata": {},
     "output_type": "execute_result"
    }
   ],
   "source": [
    "y_test_restore = ohe.inverse_transform(y_test)\n",
    "confusion_matrix(y_test_restore, y_hat_test)"
   ]
  },
  {
   "cell_type": "markdown",
   "metadata": {},
   "source": [
    "Wow, look at that performance!  \n",
    "\n",
    "That is great, but remember, we were dealing with simple black and white images.  With color, our basic neural net will have less success.\n",
    "\n",
    "We will explore more advanced tools in the coming days.\n"
   ]
  },
  {
   "cell_type": "code",
   "execution_count": null,
   "metadata": {
    "colab_type": "text",
    "id": "EdZDyJfARV8l"
   },
   "outputs": [],
   "source": []
  }
 ],
 "metadata": {
  "celltoolbar": "Raw Cell Format",
  "colab": {
   "collapsed_sections": [],
   "name": "intro-to-keras.ipynb",
   "provenance": []
  },
  "kernelspec": {
   "display_name": "Python 3",
   "language": "python",
   "name": "python3"
  },
  "language_info": {
   "codemirror_mode": {
    "name": "ipython",
    "version": 3
   },
   "file_extension": ".py",
   "mimetype": "text/x-python",
   "name": "python",
   "nbconvert_exporter": "python",
   "pygments_lexer": "ipython3",
   "version": "3.8.5"
  },
  "toc": {
   "base_numbering": 1,
   "nav_menu": {},
   "number_sections": true,
   "sideBar": true,
   "skip_h1_title": false,
   "title_cell": "Table of Contents",
   "title_sidebar": "Contents",
   "toc_cell": false,
   "toc_position": {},
   "toc_section_display": true,
   "toc_window_display": false
  },
  "varInspector": {
   "cols": {
    "lenName": 16,
    "lenType": 16,
    "lenVar": 40
   },
   "kernels_config": {
    "python": {
     "delete_cmd_postfix": "",
     "delete_cmd_prefix": "del ",
     "library": "var_list.py",
     "varRefreshCmd": "print(var_dic_list())"
    },
    "r": {
     "delete_cmd_postfix": ") ",
     "delete_cmd_prefix": "rm(",
     "library": "var_list.r",
     "varRefreshCmd": "cat(var_dic_list()) "
    }
   },
   "types_to_exclude": [
    "module",
    "function",
    "builtin_function_or_method",
    "instance",
    "_Feature"
   ],
   "window_display": false
  }
 },
 "nbformat": 4,
 "nbformat_minor": 4
}
